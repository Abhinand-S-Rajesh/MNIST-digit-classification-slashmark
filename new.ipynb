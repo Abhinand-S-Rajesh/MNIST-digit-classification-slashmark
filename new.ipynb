{
 "cells": [
  {
   "cell_type": "code",
   "execution_count": 2,
   "metadata": {},
   "outputs": [],
   "source": [
    "from keras.models import Sequential\n",
    "from keras.layers import Conv2D, MaxPooling2D, Activation, Flatten, Dense\n",
    "\n",
    "class CNN:\n",
    "    @staticmethod\n",
    "    def build(width, height, depth, total_classes, Saved_Weights_Path=None):\n",
    "        # Initialize the Model\n",
    "        model = Sequential()\n",
    "\n",
    "        # First CONV => RELU => POOL Layer\n",
    "        model.add(Conv2D(20, (5, 5), padding=\"same\", input_shape=(depth, height, width)))\n",
    "        model.add(Activation(\"relu\"))\n",
    "        model.add(MaxPooling2D(pool_size=(2, 2), strides=(2, 2), data_format=\"channels_first\"))\n",
    "\n",
    "        # Second CONV => RELU => POOL Layer\n",
    "        model.add(Conv2D(50, (5, 5), padding=\"same\"))\n",
    "        model.add(Activation(\"relu\"))\n",
    "        model.add(MaxPooling2D(pool_size=(2, 2), strides=(2, 2), data_format=\"channels_first\"))\n",
    "\n",
    "        # Third CONV => RELU => POOL Layer\n",
    "        model.add(Conv2D(100, (5, 5), padding=\"same\"))\n",
    "        model.add(Activation(\"relu\"))\n",
    "        model.add(MaxPooling2D(pool_size=(2, 2), strides=(2, 2), data_format=\"channels_first\"))\n",
    "\n",
    "        # FC => RELU layers\n",
    "        model.add(Flatten())\n",
    "        model.add(Dense(500))\n",
    "        model.add(Activation(\"relu\"))\n",
    "\n",
    "        # Using Softmax Classifier for Linear Classification\n",
    "        model.add(Dense(total_classes))\n",
    "        model.add(Activation(\"softmax\"))\n",
    "\n",
    "        # If the saved_weights file is already present i.e model is pre-trained, load that weights\n",
    "        if Saved_Weights_Path is not None:\n",
    "            model.load_weights(Saved_Weights_Path)\n",
    "        return model"
   ]
  }
 ],
 "metadata": {
  "kernelspec": {
   "display_name": "Python 3",
   "language": "python",
   "name": "python3"
  },
  "language_info": {
   "codemirror_mode": {
    "name": "ipython",
    "version": 3
   },
   "file_extension": ".py",
   "mimetype": "text/x-python",
   "name": "python",
   "nbconvert_exporter": "python",
   "pygments_lexer": "ipython3",
   "version": "3.12.0"
  }
 },
 "nbformat": 4,
 "nbformat_minor": 2
}
